version https://git-lfs.github.com/spec/v1
oid sha256:f7483c78e224079840c4ca0b38c8aeee495af6293b67b05058544f169d91e502
size 27296369
