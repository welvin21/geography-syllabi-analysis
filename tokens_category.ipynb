version https://git-lfs.github.com/spec/v1
oid sha256:3172b83d82db0c4d0d748e5f526ea734413ec3712c9967a606bcc7ef916c6a12
size 20925715
