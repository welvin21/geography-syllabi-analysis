version https://git-lfs.github.com/spec/v1
oid sha256:24a49b11c1b547238e4d38e536d48f68cd24415c3dae7add526bc8cbf938f0c7
size 48552673
