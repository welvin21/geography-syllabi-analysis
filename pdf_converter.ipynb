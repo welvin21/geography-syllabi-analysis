{
 "cells": [
  {
   "cell_type": "code",
   "execution_count": 22,
   "metadata": {},
   "outputs": [],
   "source": [
    "import tika\n",
    "import os\n",
    "from tika import parser as tika_parser\n",
    "tika.initVM()"
   ]
  },
  {
   "cell_type": "code",
   "execution_count": 23,
   "metadata": {},
   "outputs": [],
   "source": [
    "class PDFToText():\n",
    "    def __init__(self):\n",
    "        self.engine = tika_parser\n",
    "    \n",
    "    def convert(self, file_path):\n",
    "        if not os.path.isfile(file_path): \n",
    "            raise Exception(\"Invalid file path!\")\n",
    "        \n",
    "        parsed_pdf = self.engine.from_file(file_path)\n",
    "        return parsed_pdf[\"content\"]"
   ]
  },
  {
   "cell_type": "code",
   "execution_count": null,
   "metadata": {},
   "outputs": [],
   "source": []
  }
 ],
 "metadata": {
  "kernelspec": {
   "display_name": "Python 3",
   "language": "python",
   "name": "python3"
  },
  "language_info": {
   "codemirror_mode": {
    "name": "ipython",
    "version": 3
   },
   "file_extension": ".py",
   "mimetype": "text/x-python",
   "name": "python",
   "nbconvert_exporter": "python",
   "pygments_lexer": "ipython3",
   "version": "3.8.5"
  }
 },
 "nbformat": 4,
 "nbformat_minor": 4
}
