version https://git-lfs.github.com/spec/v1
oid sha256:1e2a52666ac3e3f05de9e3aad955e52578d9ac9907f24217006d1bd24ada6c11
size 605796
